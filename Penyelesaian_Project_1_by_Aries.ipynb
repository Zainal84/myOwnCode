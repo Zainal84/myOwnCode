{
  "nbformat": 4,
  "nbformat_minor": 0,
  "metadata": {
    "colab": {
      "name": "Copy of Project 1 - list and dictionary.ipynb",
      "provenance": [],
      "collapsed_sections": [],
      "include_colab_link": true
    },
    "kernelspec": {
      "name": "python3",
      "display_name": "Python 3"
    }
  },
  "cells": [
    {
      "cell_type": "markdown",
      "metadata": {
        "id": "view-in-github",
        "colab_type": "text"
      },
      "source": [
        "<a href=\"https://colab.research.google.com/github/arieskumala/pythonExercise/blob/master/Penyelesaian_Project_1_by_Aries.ipynb\" target=\"_parent\"><img src=\"https://colab.research.google.com/assets/colab-badge.svg\" alt=\"Open In Colab\"/></a>"
      ]
    },
    {
      "cell_type": "markdown",
      "metadata": {
        "id": "85Gs6kGheYA3",
        "colab_type": "text"
      },
      "source": [
        "# Digital Talent Scholarship - Kominfo\n",
        "\n",
        "## Project 1 - Working with List and Dictinonary\n",
        "\n",
        "## Soal Nomor 1\n",
        "Buatlah fungsi `letter_catalog` dengan sebuah positional argument berupa list dan keyword argument `letter` untuk nilai default 'A'. Fungsi `letter_catalog` akan mengembalikan sebuah list yang berisi nama-nama buah yang dimulai dengan huruf yang ada keyword argument `letter`. Jika tidak ada item di list inputan tersebut yang diawali dengan huruf yang didefinisikan di keyword `letter` maka fungsi mengembalikan list kosong.\n",
        "\n",
        "## Langkah Penyelesaian\n",
        "Pertama buatlah sebuah fungsi dengan nama letter_catalog yang berisi positional argument list sebut saja `items` dan keyword argument letter untuk nilai default 'A'.\n",
        "\n",
        "Kemudian didalam fungsi `letter_catalog` kita buat list `katalogBuah` untuk menampung nama-nama buah yang diawali dengan huruf 'A'. Selanjutnya kita gunakan perulangan, Conditional Statements `if ... else ...` dan string method `startswith()` untuk mencari nama buah yang diawali oleh huruf 'A'. Kemudian buah tersebut kita simpan di dalam list `katalogBuah` dengan method `list.append()` dan kita kembalikan dengan fungsi `return`"
      ]
    },
    {
      "cell_type": "code",
      "metadata": {
        "id": "t4uGwfoHjnpD",
        "colab_type": "code",
        "colab": {}
      },
      "source": [
        "def letter_catalog(items,letter='A'):\n",
        "  katalogBuah = []\n",
        "  for buah in items:\n",
        "    if buah.startswith(letter):\n",
        "      katalogBuah.append(buah)\n",
        "  return katalogBuah"
      ],
      "execution_count": 0,
      "outputs": []
    },
    {
      "cell_type": "code",
      "metadata": {
        "id": "7fQUkRXl0zCa",
        "colab_type": "code",
        "colab": {
          "base_uri": "https://localhost:8080/",
          "height": 34
        },
        "outputId": "9c5f43f6-1e12-4d19-9d62-e262a71a2b39"
      },
      "source": [
        "# Cek output\n",
        "letter_catalog(['Apple','Avocado','Banana','Blackberries','Blueberries','Cherries'],letter='A')"
      ],
      "execution_count": 8,
      "outputs": [
        {
          "output_type": "execute_result",
          "data": {
            "text/plain": [
              "['Apple', 'Avocado']"
            ]
          },
          "metadata": {
            "tags": []
          },
          "execution_count": 8
        }
      ]
    },
    {
      "cell_type": "markdown",
      "metadata": {
        "id": "1_Va_bPq0_r1",
        "colab_type": "text"
      },
      "source": [
        "Expected output:\n",
        "```\n",
        "['Apple', 'Avocado']\n",
        "```"
      ]
    },
    {
      "cell_type": "markdown",
      "metadata": {
        "id": "1plym_6cJTmH",
        "colab_type": "text"
      },
      "source": [
        "## Soal Nomor 2\n",
        "Buatlah fungsi `counter_item` yang memiliki sebuah input argument berupa list. Fungsi ini mengembalikan sebuah dictionary yang menghitung jumlah buah dalam list input, dengan `key` berupa nama buah tersebut dan `value` berupa jumlah nama buah tersebut muncul di list input.\n",
        "\n",
        "##Langkah Penyelesaian\n",
        "Pertama buatlah sebuah fungsi `counter_item` dengan input argument berupa list masih kita sebut `items`. Buatlah list `daftarBelanja` untuk mengurutkan nama-nama buah yang ada dilist `items`, dan mengubahnya menjadi huruf kapital agar tidak menimbulkan error saat perhitungan dilakukan, karena python sangat case sensitive. Lalu simpan hasilnya didalam list `daftarBelanja`.\n",
        "\n",
        "Kemudian kita buat 2 buah list, `namaBuah` dan `jumlahBuah`, untuk menampung hasil perhitungan fungsi ini. Kita gunakan perulangan dan `if ... else ...` untuk memasukkan nama-nama buah dari `daftarBelanja` ke list `namaBuah` dengan method `list.append()`. Kita eliminasi nama buah yang sama dengan operator `not in`. Karena kita butuh nama buah yang unik sebagai `key` untuk membuat sebuah dictionary.\n",
        "\n",
        "Selanjutnya kita hitung jumlah buah yang ada didalam `daftarBelanja` dengan perulangan dan simpan hasil perhitungan di list `jumlahBuah`. Kita gunakan list `namaBuah` untuk memudahkan perhitungan, karena nama-nama buah dilist tersebut sudah unik dan tidak berulang.\n",
        "\n",
        "Terakhir kita buat dictionary dengan menggabungkan list `namaBuah` dan `jumlahBuah` dengan menggunakan fungsi zip(). Kembalikan hasilnya dengan fungsi `return`"
      ]
    },
    {
      "cell_type": "code",
      "metadata": {
        "id": "LkQDoyIZoFUT",
        "colab_type": "code",
        "colab": {}
      },
      "source": [
        "def counter_item(items):\n",
        "    daftarBelanja = []\n",
        "    for buah in items:\n",
        "        daftarBelanja.append(buah.capitalize())\n",
        "        daftarBelanja.sort()\n",
        "\n",
        "    namaBuah = []\n",
        "    jumlahBuah = []\n",
        "    for buah in daftarBelanja:\n",
        "        if buah not in namaBuah:\n",
        "            namaBuah.append(buah)\n",
        "\n",
        "    for buah in namaBuah:\n",
        "        jumlahBuah.append(daftarBelanja.count(buah))\n",
        "    return dict(zip(namaBuah, jumlahBuah))"
      ],
      "execution_count": 0,
      "outputs": []
    },
    {
      "cell_type": "code",
      "metadata": {
        "id": "KfxtWsNj1S19",
        "colab_type": "code",
        "colab": {
          "base_uri": "https://localhost:8080/",
          "height": 34
        },
        "outputId": "db388cd7-7234-4210-e617-306b245954c8"
      },
      "source": [
        "# Cek output kode anda\n",
        "counter_item(['Apple','Apple','Apple','Blueberries','Blueberries','Blueberries'])"
      ],
      "execution_count": 5,
      "outputs": [
        {
          "output_type": "execute_result",
          "data": {
            "text/plain": [
              "{'Apple': 3, 'Blueberries': 3}"
            ]
          },
          "metadata": {
            "tags": []
          },
          "execution_count": 5
        }
      ]
    },
    {
      "cell_type": "markdown",
      "metadata": {
        "id": "qSh_3MqK1HkK",
        "colab_type": "text"
      },
      "source": [
        "Expected output:\n",
        "```\n",
        "{'Apple': 3, 'Blueberries': 3}\n",
        "```"
      ]
    },
    {
      "cell_type": "markdown",
      "metadata": {
        "id": "RQ5u4YdFKqcL",
        "colab_type": "text"
      },
      "source": [
        "## Soal Nomor 3\n",
        "### Di bawah ini sudah ada tiga variables `fruits`, `prices`, dan `chart`. \n",
        "- Buatlah sebuah dictionary yang berupa daftar harga buah dengan `key` berupa nama buah di variable `fruits` dan dengan `value` berupa harga dari buah tersebut di variable `price` (sudah diurutkan sesuai dengan nama-nama buah di varibale `fruits`, kemudian Dictionary tersebut disimpan di dalam variable `fruit_price`.\n",
        "- Selanjutnya, Buatlah fungsi `total_price` dengan dua input yaitu: 1) dictionary yang merupakan keluaran dari fungsi `counter_item` dan 2) dictionary harga buah  `fruit_price`. Fungsi ini mengeluarkan sebuah total harga dari daftar buah di dictionary keluaran dari `counter_item`.\n",
        "\n",
        "**Hint**: Gunakan fungsi `counter_item` di soal nomor 2.\n",
        "\n",
        "## Langkah Penyelesaian\n",
        "Didalam variable `fruit_price` kita gunakan fungsi `zip()` untuk menggabungkan list `fruits` dan `prices`.\n",
        "\n",
        "Kemudian kita buat variabel `total` dengan nilai awal 0, untuk menyimpan total harga dari belanjaan. Lakukan perulangan dengan mengambil `key` namaBuah dan `value` jumlahBuah dari dictionary `dcounter` dengan menggunakan method `dict.items()`.\n",
        "\n",
        "Kalikan `jumlahBuah` yang ada didalam dictionary `dcounter` dengan harga buah yang ada didalam dictionary `fprice`, kita gunakan method `dict.get()` untuk mengambil harga buah tersebut, dan jumlahkan dengan variabel `total`. Kembalikan hasilnya dengan menggunakan fungsi `return`"
      ]
    },
    {
      "cell_type": "code",
      "metadata": {
        "id": "IfdaUhaxwWNA",
        "colab_type": "code",
        "colab": {}
      },
      "source": [
        "# dua variable berikut jangan diubah\n",
        "fruits = ['Apple','Avocado','Banana','Blackberries','Blueberries','Cherries','Date Fruit','Grapes','Guava','Jackfruit','Kiwifruit']\n",
        "prices = [6,5,3,10,12,7,14,15,8,7,9]\n",
        "\n",
        "# list buah\n",
        "chart = ['Blueberries','Blueberries','Grapes','Apple','Apple','Apple','Blueberries','Guava','Jackfruit','Blueberries','Jackfruit']\n",
        "\n",
        "# MULAI KODEMU DI SINI\n",
        "fruit_price = dict(zip(fruits, prices))\n",
        "\n",
        "def total_price(dcounter,fprice):\n",
        "  total = 0\n",
        "  for namaBuah, jumlahBuah in dcounter.items():\n",
        "    total += (jumlah * fprice.get(namaBuah))\n",
        "  return total"
      ],
      "execution_count": 0,
      "outputs": []
    },
    {
      "cell_type": "code",
      "metadata": {
        "id": "xW14Y6f41b8e",
        "colab_type": "code",
        "colab": {
          "base_uri": "https://localhost:8080/",
          "height": 34
        },
        "outputId": "ffa8001d-4dd9-4acc-f416-ed3d9b1f68a0"
      },
      "source": [
        "# Cek output kode anda\n",
        "total_price(counter_item(chart),fruit_price)"
      ],
      "execution_count": 12,
      "outputs": [
        {
          "output_type": "execute_result",
          "data": {
            "text/plain": [
              "103"
            ]
          },
          "metadata": {
            "tags": []
          },
          "execution_count": 12
        }
      ]
    },
    {
      "cell_type": "markdown",
      "metadata": {
        "id": "pbcpTPNo1LYW",
        "colab_type": "text"
      },
      "source": [
        "Expected output:\n",
        "```\n",
        "103\n",
        "```"
      ]
    },
    {
      "cell_type": "markdown",
      "metadata": {
        "id": "U5VzcIs5R-MJ",
        "colab_type": "text"
      },
      "source": [
        "### 4. Buatlah fungsi `discounted_price` dengan dua positional arguments input dari keluaran fungsi totalprice dan discount dalam persen(80 berarti 80%, dst), dan satu keyword argument `minprice` yang menunjukkan hanya dengan minimum price tersebut yang hanya di-discount, set default value `minprice` ke 100. Fungsi tersebut menghitung nilai harga akhir setelah di-discount sebesar discount variable (argument kedua). Untuk harga total yang kurang dari `minprice` maka keluarannya sama dengan harga total tersebut tanpa discount."
      ]
    },
    {
      "cell_type": "code",
      "metadata": {
        "id": "aHDCFfNQzUzC",
        "colab_type": "code",
        "colab": {}
      },
      "source": [
        "#Graded\n",
        "\n",
        "def discounted_price(total,discount,minprice=100):\n",
        "  pass\n",
        "  # MULAI KODEMU DI SINI\n",
        "  "
      ],
      "execution_count": 0,
      "outputs": []
    },
    {
      "cell_type": "code",
      "metadata": {
        "id": "yNhIwaAZ1lzX",
        "colab_type": "code",
        "colab": {}
      },
      "source": [
        "# Cek output kode anda\n",
        "discounted_price(total_price(counter_item(chart),fruit_price),10,minprice=100)\n"
      ],
      "execution_count": 0,
      "outputs": []
    },
    {
      "cell_type": "markdown",
      "metadata": {
        "id": "cweITli-1Mhp",
        "colab_type": "text"
      },
      "source": [
        "Expected output:\n",
        "```\n",
        "92.7\n",
        "```"
      ]
    },
    {
      "cell_type": "markdown",
      "metadata": {
        "id": "wFj8-NVV3Zh1",
        "colab_type": "text"
      },
      "source": [
        "### 5. Buatlah fungsi `print_summary` dengan 2 posisional argument input, list nama2 buah (cth: seperti variable `chart`) dan dictionary harga buah (cth: seperti variable `fruit_price`, yang mengeluarkan tulisan ringakasan dari pembelian buah seperti berikut ini.\n",
        "\n",
        "cth keluaran:\n",
        "```\n",
        "3 Apple : 18\n",
        "4 Blueberries : 48\n",
        "1 Grapes : 15\n",
        "1 Guava : 8\n",
        "2 Jackfruit : 14\n",
        "total : 103\n",
        "discount price : 92.7\n",
        "```\n",
        "dengan format `jumlahbuah`\\<spasi\\>`namabuah`\\<spasi\\>`totalhargabuah\\n` dengan nama nama buah berurutan sesuai abjad `ascending`, kemudian diikuti total harga semuanya dan discount price dengan besaran 10% dengan minimum harga pembelian 100.\n",
        "\n",
        "**Note**: dipisahkan hanya satu spasi. Output harus sama dengan contoh diatas untuk pemanggilan fungsi berikut ini.\n",
        "```\n",
        "print_summary(chart,fruit_price)\n",
        "```\n",
        "\n",
        "\n",
        "\n",
        "\n"
      ]
    },
    {
      "cell_type": "code",
      "metadata": {
        "id": "zXQzarsv1_bS",
        "colab_type": "code",
        "colab": {}
      },
      "source": [
        "#Graded\n",
        "\n",
        "def print_summary(items,fprice):\n",
        "  pass\n",
        "  # MULAI KODEMU DI SINI\n",
        "  "
      ],
      "execution_count": 0,
      "outputs": []
    },
    {
      "cell_type": "code",
      "metadata": {
        "id": "lh0v-YiH1w24",
        "colab_type": "code",
        "colab": {}
      },
      "source": [
        "# Cek output kode anda\n",
        "print_summary(chart,fruit_price)\n",
        "  "
      ],
      "execution_count": 0,
      "outputs": []
    },
    {
      "cell_type": "markdown",
      "metadata": {
        "id": "UroVZiY51Oqk",
        "colab_type": "text"
      },
      "source": [
        "Expected output:\n",
        "```\n",
        "3 Apple : 18\n",
        "4 Blueberries : 48\n",
        "1 Grapes : 15\n",
        "1 Guava : 8\n",
        "2 Jackfruit : 14\n",
        "total : 103\n",
        "discount price : 92.7\n",
        "```"
      ]
    }
  ]
}